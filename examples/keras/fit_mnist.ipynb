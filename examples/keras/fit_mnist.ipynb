{
 "cells": [
  {
   "cell_type": "markdown",
   "metadata": {},
   "source": [
    "## Imports"
   ]
  },
  {
   "cell_type": "code",
   "execution_count": 1,
   "metadata": {},
   "outputs": [
    {
     "name": "stderr",
     "output_type": "stream",
     "text": [
      "Using TensorFlow backend.\n"
     ]
    }
   ],
   "source": [
    "import sys\n",
    "import os\n",
    "sys.path.append(os.path.split(os.path.split(os.getcwd())[0])[0])\n",
    "config_filepath = os.path.join(os.getcwd(),\"config/fit_config_mnist.json\")\n",
    "notebook_filepath = os.path.join(os.getcwd(),\"fit_mnist.ipynb\")\n",
    "import uuid\n",
    "import json\n",
    "import datetime\n",
    "import getpass\n",
    "\n",
    "from mercury_ml.common import tasks\n",
    "from mercury_ml.common import utils\n",
    "from mercury_ml.common import containers as common_containers\n",
    "from mercury_ml.keras import containers as keras_containers"
   ]
  },
  {
   "cell_type": "code",
   "execution_count": 2,
   "metadata": {},
   "outputs": [],
   "source": [
    "session_id = str(uuid.uuid4().hex)"
   ]
  },
  {
   "cell_type": "markdown",
   "metadata": {},
   "source": [
    "### load config file and update placeholder"
   ]
  },
  {
   "cell_type": "code",
   "execution_count": 3,
   "metadata": {},
   "outputs": [],
   "source": [
    "config = utils.load_referenced_json_config(config_filepath)"
   ]
  },
  {
   "cell_type": "code",
   "execution_count": 4,
   "metadata": {},
   "outputs": [],
   "source": [
    "utils.recursively_update_config(config[\"meta_info\"], {\n",
    "    \"session_id\": session_id,\n",
    "    \"model_purpose\": config[\"meta_info\"][\"model_purpose\"],\n",
    "    \"config_filepath\": config_filepath,\n",
    "    \"notebook_filepath\": notebook_filepath\n",
    "})"
   ]
  },
  {
   "cell_type": "code",
   "execution_count": 5,
   "metadata": {},
   "outputs": [],
   "source": [
    "utils.recursively_update_config(config, config[\"meta_info\"])"
   ]
  },
  {
   "cell_type": "markdown",
   "metadata": {},
   "source": [
    "### Helper functions\n",
    "`get_and_log`, or basically `getattr`, is used to read out function names from the config file.\n",
    "This is necesarry because different functions are used in different context. E.g. there are different functions for Keras than for H2O. Or for reading images instead of reading arrays from .csv."
   ]
  },
  {
   "cell_type": "code",
   "execution_count": 6,
   "metadata": {},
   "outputs": [],
   "source": [
    "def create_and_log(container, class_name, params):\n",
    "    provider = getattr(container, class_name)(**params)\n",
    "    print(\"{}.{}\".format(container.__name__, class_name))\n",
    "    print(\"params: \", json.dumps(params, indent=2))\n",
    "    return provider\n",
    "\n",
    "def get_and_log(container, function_name):\n",
    "    provider = getattr(container, function_name)\n",
    "    print(\"{}.{}\".format(container.__name__, function_name))\n",
    "    return provider\n",
    "def maybe_transform(data_bunch, pre_execution_parameters):\n",
    "    if pre_execution_parameters:\n",
    "        return data_bunch.transform(**pre_execution_parameters)\n",
    "    else:\n",
    "        return data_bunch"
   ]
  },
  {
   "cell_type": "markdown",
   "metadata": {},
   "source": [
    "### Download and convert MNIST Images\n",
    "If the images for training do not exist, download them and save them as .png images"
   ]
  },
  {
   "cell_type": "code",
   "execution_count": 7,
   "metadata": {},
   "outputs": [],
   "source": [
    "if not os.path.exists(config[\"exec\"][\"read_source_data\"][\"params\"][\"train_params\"][\"iterator_params\"][\"directory\"]):\n",
    "    from load_mnist import download_and_convert_mnist \n",
    "    download_and_convert_mnist(config[\"meta_info\"][\"data_bunch_name\"])"
   ]
  },
  {
   "cell_type": "markdown",
   "metadata": {},
   "source": [
    "## Source\n",
    "First read out from the config file which file input\n",
    "Second read the data from source into a generator, ready for training"
   ]
  },
  {
   "cell_type": "code",
   "execution_count": 8,
   "metadata": {},
   "outputs": [
    {
     "name": "stdout",
     "output_type": "stream",
     "text": [
      "SourceReaders.read_disk_keras_single_input_iterator\n"
     ]
    }
   ],
   "source": [
    "read_source_data_set = get_and_log(common_containers.SourceReaders, config[\"init\"][\"read_source_data\"][\"name\"])"
   ]
  },
  {
   "cell_type": "code",
   "execution_count": 9,
   "metadata": {},
   "outputs": [
    {
     "name": "stdout",
     "output_type": "stream",
     "text": [
      "Found 100 images belonging to 10 classes.\n",
      "Found 100 images belonging to 10 classes.\n",
      "Found 100 images belonging to 10 classes.\n"
     ]
    }
   ],
   "source": [
    "data_bunch_source = tasks.read_train_valid_test_data_bunch(read_source_data_set,**config[\"exec\"][\"read_source_data\"][\"params\"] )"
   ]
  },
  {
   "cell_type": "markdown",
   "metadata": {},
   "source": [
    "If there are parameters speifed for pre_execution_transformation, the data has to be transformed"
   ]
  },
  {
   "cell_type": "code",
   "execution_count": 10,
   "metadata": {},
   "outputs": [],
   "source": [
    "data_bunch_fit = maybe_transform(data_bunch_source, config[\"exec\"][\"fit\"].get(\"pre_execution_transformation\"))"
   ]
  },
  {
   "cell_type": "markdown",
   "metadata": {},
   "source": [
    "## Model"
   ]
  },
  {
   "cell_type": "markdown",
   "metadata": {},
   "source": [
    "Load keras functions from config file"
   ]
  },
  {
   "cell_type": "code",
   "execution_count": 11,
   "metadata": {},
   "outputs": [
    {
     "name": "stdout",
     "output_type": "stream",
     "text": [
      "OptimizerFetchers.get_keras_optimizer\n",
      "LossFunctionFetchers.get_keras_loss\n",
      "ModelCompilers.compile_model\n",
      "ModelFitters.fit_generator\n"
     ]
    }
   ],
   "source": [
    "get_optimizer = get_and_log(keras_containers.OptimizerFetchers, \n",
    "                           config[\"init\"][\"get_optimizer\"][\"name\"])\n",
    "get_loss_function = get_and_log(keras_containers.LossFunctionFetchers, \n",
    "                                config[\"init\"][\"get_loss_function\"][\"name\"])\n",
    "compile_model = get_and_log(keras_containers.ModelCompilers, \n",
    "                            config[\"init\"][\"compile_model\"][\"name\"])\n",
    "fit = get_and_log(keras_containers.ModelFitters, config[\"init\"][\"fit\"][\"name\"])"
   ]
  },
  {
   "cell_type": "markdown",
   "metadata": {},
   "source": [
    "Specify the keras model"
   ]
  },
  {
   "cell_type": "code",
   "execution_count": 12,
   "metadata": {},
   "outputs": [
    {
     "name": "stdout",
     "output_type": "stream",
     "text": [
      "WARNING:tensorflow:From C:\\Users\\gabriel.oexle\\AppData\\Local\\Continuum\\anaconda3\\envs\\mercury_test\\lib\\site-packages\\tensorflow\\python\\framework\\op_def_library.py:263: colocate_with (from tensorflow.python.framework.ops) is deprecated and will be removed in a future version.\n",
      "Instructions for updating:\n",
      "Colocations handled automatically by placer.\n",
      "WARNING:tensorflow:From C:\\Users\\gabriel.oexle\\AppData\\Local\\Continuum\\anaconda3\\envs\\mercury_test\\lib\\site-packages\\keras\\backend\\tensorflow_backend.py:3445: calling dropout (from tensorflow.python.ops.nn_ops) with keep_prob is deprecated and will be removed in a future version.\n",
      "Instructions for updating:\n",
      "Please use `rate` instead of `keep_prob`. Rate should be set to `rate = 1 - keep_prob`.\n"
     ]
    }
   ],
   "source": [
    "if(config[\"exec\"][\"read_source_data\"][\"params\"][\"train_params\"][\"iterator_params\"][\"color_mode\"]==\"grayscale\"):\n",
    "    color_size = 1\n",
    "elif(config[\"exec\"][\"read_source_data\"][\"params\"][\"train_params\"][\"iterator_params\"][\"color_mode\"]==\"RGBA\"):\n",
    "    color_size = 4\n",
    "else: #color_mode is RGB\n",
    "    color_size = 3\n",
    "input_shape = (config[\"exec\"][\"define_model\"][\"params\"][\"input_size\"][0],config[\"exec\"][\"define_model\"][\"params\"][\"input_size\"][1],color_size)\n",
    "\n",
    "from keras.models import Sequential\n",
    "from keras.layers import Dense, Conv2D, Dropout, Flatten, MaxPooling2D\n",
    "import tensorflow as tf\n",
    "\n",
    "model = Sequential()\n",
    "model.add(Conv2D(28, kernel_size=(3,3), input_shape=input_shape))\n",
    "model.add(MaxPooling2D(pool_size=(2, 2)))\n",
    "model.add(Flatten()) # converting 2D array into fully connected layers\n",
    "model.add(Dense(128, activation=tf.nn.relu))\n",
    "model.add(Dropout(rate=config[\"exec\"][\"define_model\"][\"params\"][\"dropout_rate\"], seed=12345))\n",
    "model.add(Dense(config[\"exec\"][\"define_model\"][\"params\"][\"nb_classes\"],activation=tf.nn.softmax))\n",
    "\n",
    "model = compile_model(model=model,\n",
    "                      optimizer=get_optimizer(**config[\"exec\"][\"get_optimizer\"][\"params\"]),\n",
    "                      loss=get_loss_function(**config[\"exec\"][\"get_loss_function\"][\"params\"]),\n",
    "                      **config[\"exec\"][\"compile_model\"][\"params\"])"
   ]
  },
  {
   "cell_type": "markdown",
   "metadata": {},
   "source": [
    "### Fit the model"
   ]
  },
  {
   "cell_type": "markdown",
   "metadata": {},
   "source": [
    "Callbacks for monitoring training process"
   ]
  },
  {
   "cell_type": "code",
   "execution_count": 13,
   "metadata": {},
   "outputs": [
    {
     "name": "stdout",
     "output_type": "stream",
     "text": [
      "CallBacks.early_stopping\n",
      "CallBacks.model_checkpoint\n"
     ]
    }
   ],
   "source": [
    "callbacks = []\n",
    "for callback in config[\"init\"][\"callbacks\"]:\n",
    "    callbacks = callbacks + [get_and_log(keras_containers.CallBacks, callback[\"name\"])(callback[\"params\"])]"
   ]
  },
  {
   "cell_type": "code",
   "execution_count": 14,
   "metadata": {},
   "outputs": [
    {
     "name": "stdout",
     "output_type": "stream",
     "text": [
      "WARNING:tensorflow:From C:\\Users\\gabriel.oexle\\AppData\\Local\\Continuum\\anaconda3\\envs\\mercury_test\\lib\\site-packages\\tensorflow\\python\\ops\\math_ops.py:3066: to_int32 (from tensorflow.python.ops.math_ops) is deprecated and will be removed in a future version.\n",
      "Instructions for updating:\n",
      "Use tf.cast instead.\n",
      "Epoch 1/5\n",
      "10/10 [==============================] - 1s 129ms/step - loss: 1.9933 - acc: 0.3500 - val_loss: 1.6175 - val_acc: 0.4600\n",
      "Epoch 2/5\n",
      "10/10 [==============================] - 0s 32ms/step - loss: 0.6943 - acc: 0.8500 - val_loss: 1.0764 - val_acc: 0.6600\n",
      "Epoch 3/5\n",
      "10/10 [==============================] - 0s 49ms/step - loss: 0.2965 - acc: 0.9200 - val_loss: 0.9986 - val_acc: 0.6600\n",
      "Epoch 4/5\n",
      "10/10 [==============================] - 1s 61ms/step - loss: 0.1342 - acc: 0.9600 - val_loss: 0.9498 - val_acc: 0.7100\n",
      "Epoch 5/5\n",
      "10/10 [==============================] - 0s 47ms/step - loss: 0.0658 - acc: 0.9900 - val_loss: 0.9202 - val_acc: 0.7400\n",
      "return_best_model set to False. Returning model from last epoch\n"
     ]
    }
   ],
   "source": [
    "model = fit(model = model,\n",
    "            data_bunch = data_bunch_fit,\n",
    "            callbacks = callbacks,\n",
    "            **config[\"exec\"][\"fit\"][\"params\"])"
   ]
  },
  {
   "cell_type": "markdown",
   "metadata": {},
   "source": [
    "#### Save the model"
   ]
  },
  {
   "cell_type": "code",
   "execution_count": 15,
   "metadata": {},
   "outputs": [
    {
     "name": "stdout",
     "output_type": "stream",
     "text": [
      "ModelSavers.save_hdf5\n",
      "ModelSavers.save_tensorflow_serving_predict_signature_def\n",
      "ArtifactCopiers.copy_from_disk_to_disk\n",
      "ArtifactCopiers.copy_from_disk_to_disk\n",
      "WARNING:tensorflow:From C:\\Users\\gabriel.oexle\\AppData\\Local\\Continuum\\anaconda3\\envs\\mercury_test\\lib\\site-packages\\tensorflow\\python\\saved_model\\signature_def_utils_impl.py:205: build_tensor_info (from tensorflow.python.saved_model.utils_impl) is deprecated and will be removed in a future version.\n",
      "Instructions for updating:\n",
      "This function will only be available through the v1 compatibility library as tf.compat.v1.saved_model.utils.build_tensor_info or tf.compat.v1.saved_model.build_tensor_info.\n",
      "INFO:tensorflow:No assets to save.\n",
      "INFO:tensorflow:No assets to write.\n",
      "INFO:tensorflow:SavedModel written to: c:/tf_serving/_tmp_model/test_generator__9e4d0a8495a742f392bbfa01a89f4dfb__tf_serving_predict\\1\\saved_model.pb\n"
     ]
    }
   ],
   "source": [
    "save_model_dict = {\n",
    "    save_model_function_name: get_and_log(keras_containers.ModelSavers, save_model_function_name) for save_model_function_name in config[\"init\"][\"save_model\"][\"names\"]\n",
    "}\n",
    "for model_format, save_model in save_model_dict.items():\n",
    "    \n",
    "    tasks.store_model(save_model=save_model,\n",
    "                      model=model,\n",
    "                      copy_from_local_to_remote = get_and_log(common_containers.ArtifactCopiers, config[\"init\"][\"copy_from_local_to_remote\"][\"name\"]),\n",
    "                      **config[\"exec\"][\"save_model\"][model_format]\n",
    "                      )"
   ]
  },
  {
   "cell_type": "markdown",
   "metadata": {},
   "source": [
    "#### Evaluate model"
   ]
  },
  {
   "cell_type": "code",
   "execution_count": 16,
   "metadata": {},
   "outputs": [
    {
     "name": "stdout",
     "output_type": "stream",
     "text": [
      "ModelEvaluators.evaluate_generator\n",
      "PredictionFunctions.predict_generator\n",
      "CustomLabelMetrics.evaluate_numpy_accuracy\n",
      "CustomLabelMetrics.evaluate_numpy_confusion_matrix\n"
     ]
    }
   ],
   "source": [
    "evaluate = get_and_log(keras_containers.ModelEvaluators, config[\"init\"][\"evaluate\"][\"name\"])\n",
    "predict = get_and_log(keras_containers.PredictionFunctions, config[\"init\"][\"predict\"][\"name\"])\n",
    "custom_label_metrics_dict = {\n",
    "    custom_label_metric_name: get_and_log(common_containers.CustomLabelMetrics, custom_label_metric_name) for custom_label_metric_name in config[\"init\"][\"custom_label_metrics\"][\"names\"]\n",
    "}"
   ]
  },
  {
   "cell_type": "code",
   "execution_count": 17,
   "metadata": {},
   "outputs": [],
   "source": [
    "data_bunch_metrics = maybe_transform(data_bunch_fit, config[\"exec\"][\"evaluate\"].get(\"pre_execution_transformation\"))\n",
    "data_bunch_predict = maybe_transform(data_bunch_metrics, config[\"exec\"][\"predict\"].get(\"pre_execution_transformation\"))\n",
    "\n",
    "for data_set_name in config[\"exec\"][\"predict\"][\"data_set_names\"]:\n",
    "    data_set = getattr(data_bunch_predict, data_set_name)\n",
    "    data_set.predictions = predict(model=model, data_set=data_set, **config[\"exec\"][\"predict\"][\"params\"])"
   ]
  },
  {
   "cell_type": "code",
   "execution_count": 18,
   "metadata": {},
   "outputs": [
    {
     "name": "stdout",
     "output_type": "stream",
     "text": [
      "{\n",
      "  \"test\": {\n",
      "    \"loss\": 0.951888064481318,\n",
      "    \"acc\": 0.7400000020861626\n",
      "  }\n",
      "}\n"
     ]
    }
   ],
   "source": [
    "data_bunch_metrics = maybe_transform(data_bunch_fit, config[\"exec\"][\"evaluate\"].get(\"pre_execution_transformation\"))\n",
    "metrics = {}\n",
    "for data_set_name in config[\"exec\"][\"evaluate\"][\"data_set_names\"]:\n",
    "    data_set = getattr(data_bunch_metrics, data_set_name)\n",
    "    metrics[data_set_name] = evaluate(model, data_set, **config[\"exec\"][\"evaluate\"][\"params\"])\n",
    "print(json.dumps(metrics, indent=2))"
   ]
  },
  {
   "cell_type": "code",
   "execution_count": 19,
   "metadata": {},
   "outputs": [
    {
     "name": "stdout",
     "output_type": "stream",
     "text": [
      "{\n",
      "  \"test\": {\n",
      "    \"Accuracy\": {\n",
      "      \"0\": 0.95,\n",
      "      \"1\": 0.99,\n",
      "      \"2\": 0.97,\n",
      "      \"3\": 0.98,\n",
      "      \"4\": 0.93,\n",
      "      \"5\": 0.94,\n",
      "      \"6\": 0.93,\n",
      "      \"7\": 0.98,\n",
      "      \"8\": 0.93,\n",
      "      \"9\": 0.95\n",
      "    },\n",
      "    \"ConfMat_Count_0\": {\n",
      "      \"0\": 13,\n",
      "      \"1\": 0,\n",
      "      \"2\": 1,\n",
      "      \"3\": 0,\n",
      "      \"4\": 0,\n",
      "      \"5\": 1,\n",
      "      \"6\": 2,\n",
      "      \"7\": 0,\n",
      "      \"8\": 3,\n",
      "      \"9\": 0\n",
      "    },\n",
      "    \"ConfMat_Rate_0\": {\n",
      "      \"0\": 1.0,\n",
      "      \"1\": 0.0,\n",
      "      \"2\": 0.125,\n",
      "      \"3\": 0.0,\n",
      "      \"4\": 0.0,\n",
      "      \"5\": 0.2,\n",
      "      \"6\": 0.16666666666666666,\n",
      "      \"7\": 0.0,\n",
      "      \"8\": 0.25,\n",
      "      \"9\": 0.0\n",
      "    },\n",
      "    \"ConfMat_Count_1\": {\n",
      "      \"0\": 0,\n",
      "      \"1\": 14,\n",
      "      \"2\": 0,\n",
      "      \"3\": 0,\n",
      "      \"4\": 0,\n",
      "      \"5\": 0,\n",
      "      \"6\": 0,\n",
      "      \"7\": 0,\n",
      "      \"8\": 1,\n",
      "      \"9\": 0\n",
      "    },\n",
      "    \"ConfMat_Rate_1\": {\n",
      "      \"0\": 0.0,\n",
      "      \"1\": 1.0,\n",
      "      \"2\": 0.0,\n",
      "      \"3\": 0.0,\n",
      "      \"4\": 0.0,\n",
      "      \"5\": 0.0,\n",
      "      \"6\": 0.0,\n",
      "      \"7\": 0.0,\n",
      "      \"8\": 0.08333333333333333,\n",
      "      \"9\": 0.0\n",
      "    },\n",
      "    \"ConfMat_Count_2\": {\n",
      "      \"0\": 0,\n",
      "      \"1\": 0,\n",
      "      \"2\": 6,\n",
      "      \"3\": 0,\n",
      "      \"4\": 0,\n",
      "      \"5\": 0,\n",
      "      \"6\": 2,\n",
      "      \"7\": 0,\n",
      "      \"8\": 0,\n",
      "      \"9\": 0\n",
      "    },\n",
      "    \"ConfMat_Rate_2\": {\n",
      "      \"0\": 0.0,\n",
      "      \"1\": 0.0,\n",
      "      \"2\": 0.75,\n",
      "      \"3\": 0.0,\n",
      "      \"4\": 0.0,\n",
      "      \"5\": 0.0,\n",
      "      \"6\": 0.16666666666666666,\n",
      "      \"7\": 0.0,\n",
      "      \"8\": 0.0,\n",
      "      \"9\": 0.0\n",
      "    },\n",
      "    \"ConfMat_Count_3\": {\n",
      "      \"0\": 0,\n",
      "      \"1\": 0,\n",
      "      \"2\": 0,\n",
      "      \"3\": 7,\n",
      "      \"4\": 0,\n",
      "      \"5\": 1,\n",
      "      \"6\": 0,\n",
      "      \"7\": 0,\n",
      "      \"8\": 0,\n",
      "      \"9\": 0\n",
      "    },\n",
      "    \"ConfMat_Rate_3\": {\n",
      "      \"0\": 0.0,\n",
      "      \"1\": 0.0,\n",
      "      \"2\": 0.0,\n",
      "      \"3\": 1.0,\n",
      "      \"4\": 0.0,\n",
      "      \"5\": 0.2,\n",
      "      \"6\": 0.0,\n",
      "      \"7\": 0.0,\n",
      "      \"8\": 0.0,\n",
      "      \"9\": 0.0\n",
      "    },\n",
      "    \"ConfMat_Count_4\": {\n",
      "      \"0\": 0,\n",
      "      \"1\": 0,\n",
      "      \"2\": 1,\n",
      "      \"3\": 0,\n",
      "      \"4\": 8,\n",
      "      \"5\": 1,\n",
      "      \"6\": 1,\n",
      "      \"7\": 0,\n",
      "      \"8\": 1,\n",
      "      \"9\": 4\n",
      "    },\n",
      "    \"ConfMat_Rate_4\": {\n",
      "      \"0\": 0.0,\n",
      "      \"1\": 0.0,\n",
      "      \"2\": 0.125,\n",
      "      \"3\": 0.0,\n",
      "      \"4\": 0.8888888888888888,\n",
      "      \"5\": 0.2,\n",
      "      \"6\": 0.08333333333333333,\n",
      "      \"7\": 0.0,\n",
      "      \"8\": 0.08333333333333333,\n",
      "      \"9\": 0.5\n",
      "    },\n",
      "    \"ConfMat_Count_5\": {\n",
      "      \"0\": 0,\n",
      "      \"1\": 0,\n",
      "      \"2\": 0,\n",
      "      \"3\": 0,\n",
      "      \"4\": 0,\n",
      "      \"5\": 0,\n",
      "      \"6\": 2,\n",
      "      \"7\": 0,\n",
      "      \"8\": 0,\n",
      "      \"9\": 0\n",
      "    },\n",
      "    \"ConfMat_Rate_5\": {\n",
      "      \"0\": 0.0,\n",
      "      \"1\": 0.0,\n",
      "      \"2\": 0.0,\n",
      "      \"3\": 0.0,\n",
      "      \"4\": 0.0,\n",
      "      \"5\": 0.0,\n",
      "      \"6\": 0.16666666666666666,\n",
      "      \"7\": 0.0,\n",
      "      \"8\": 0.0,\n",
      "      \"9\": 0.0\n",
      "    },\n",
      "    \"ConfMat_Count_6\": {\n",
      "      \"0\": 0,\n",
      "      \"1\": 0,\n",
      "      \"2\": 0,\n",
      "      \"3\": 0,\n",
      "      \"4\": 1,\n",
      "      \"5\": 0,\n",
      "      \"6\": 5,\n",
      "      \"7\": 0,\n",
      "      \"8\": 0,\n",
      "      \"9\": 0\n",
      "    },\n",
      "    \"ConfMat_Rate_6\": {\n",
      "      \"0\": 0.0,\n",
      "      \"1\": 0.0,\n",
      "      \"2\": 0.0,\n",
      "      \"3\": 0.0,\n",
      "      \"4\": 0.1111111111111111,\n",
      "      \"5\": 0.0,\n",
      "      \"6\": 0.4166666666666667,\n",
      "      \"7\": 0.0,\n",
      "      \"8\": 0.0,\n",
      "      \"9\": 0.0\n",
      "    },\n",
      "    \"ConfMat_Count_7\": {\n",
      "      \"0\": 0,\n",
      "      \"1\": 0,\n",
      "      \"2\": 0,\n",
      "      \"3\": 0,\n",
      "      \"4\": 0,\n",
      "      \"5\": 0,\n",
      "      \"6\": 0,\n",
      "      \"7\": 12,\n",
      "      \"8\": 1,\n",
      "      \"9\": 1\n",
      "    },\n",
      "    \"ConfMat_Rate_7\": {\n",
      "      \"0\": 0.0,\n",
      "      \"1\": 0.0,\n",
      "      \"2\": 0.0,\n",
      "      \"3\": 0.0,\n",
      "      \"4\": 0.0,\n",
      "      \"5\": 0.0,\n",
      "      \"6\": 0.0,\n",
      "      \"7\": 1.0,\n",
      "      \"8\": 0.08333333333333333,\n",
      "      \"9\": 0.125\n",
      "    },\n",
      "    \"ConfMat_Count_8\": {\n",
      "      \"0\": 0,\n",
      "      \"1\": 0,\n",
      "      \"2\": 0,\n",
      "      \"3\": 0,\n",
      "      \"4\": 0,\n",
      "      \"5\": 1,\n",
      "      \"6\": 0,\n",
      "      \"7\": 0,\n",
      "      \"8\": 6,\n",
      "      \"9\": 0\n",
      "    },\n",
      "    \"ConfMat_Rate_8\": {\n",
      "      \"0\": 0.0,\n",
      "      \"1\": 0.0,\n",
      "      \"2\": 0.0,\n",
      "      \"3\": 0.0,\n",
      "      \"4\": 0.0,\n",
      "      \"5\": 0.2,\n",
      "      \"6\": 0.0,\n",
      "      \"7\": 0.0,\n",
      "      \"8\": 0.5,\n",
      "      \"9\": 0.0\n",
      "    },\n",
      "    \"ConfMat_Count_9\": {\n",
      "      \"0\": 0,\n",
      "      \"1\": 0,\n",
      "      \"2\": 0,\n",
      "      \"3\": 0,\n",
      "      \"4\": 0,\n",
      "      \"5\": 1,\n",
      "      \"6\": 0,\n",
      "      \"7\": 0,\n",
      "      \"8\": 0,\n",
      "      \"9\": 3\n",
      "    },\n",
      "    \"ConfMat_Rate_9\": {\n",
      "      \"0\": 0.0,\n",
      "      \"1\": 0.0,\n",
      "      \"2\": 0.0,\n",
      "      \"3\": 0.0,\n",
      "      \"4\": 0.0,\n",
      "      \"5\": 0.2,\n",
      "      \"6\": 0.0,\n",
      "      \"7\": 0.0,\n",
      "      \"8\": 0.0,\n",
      "      \"9\": 0.375\n",
      "    }\n",
      "  }\n",
      "}\n"
     ]
    }
   ],
   "source": [
    "\n",
    "data_bunch_custom_metrics = maybe_transform(data_bunch_predict, \n",
    "                                            config[\"exec\"][\"evaluate_custom_metrics\"].get(\"pre_execution_transformation\"))\n",
    "custom_label_metrics = {}\n",
    "for data_set_name in config[\"exec\"][\"evaluate_custom_label_metrics\"][\"data_set_names\"]:\n",
    "    data_set = getattr(data_bunch_custom_metrics, data_set_name)\n",
    "    custom_label_metrics[data_set_name] = tasks.evaluate_label_metrics(data_set, custom_label_metrics_dict)\n",
    "print(json.dumps(custom_label_metrics, indent=2))"
   ]
  }
 ],
 "metadata": {
  "kernelspec": {
   "display_name": "Python 3",
   "language": "python",
   "name": "python3"
  },
  "language_info": {
   "codemirror_mode": {
    "name": "ipython",
    "version": 3
   },
   "file_extension": ".py",
   "mimetype": "text/x-python",
   "name": "python",
   "nbconvert_exporter": "python",
   "pygments_lexer": "ipython3",
   "version": "3.7.2"
  }
 },
 "nbformat": 4,
 "nbformat_minor": 2
}
