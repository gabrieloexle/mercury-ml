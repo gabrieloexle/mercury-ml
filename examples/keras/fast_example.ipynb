{
 "cells": [
  {
   "cell_type": "markdown",
   "metadata": {
    "pycharm": {}
   },
   "source": [
    "## Imports"
   ]
  },
  {
   "cell_type": "code",
   "execution_count": null,
   "metadata": {
    "pycharm": {
     "is_executing": false
    }
   },
   "outputs": [],
   "source": [
    "import sys\n",
    "import os\n",
    "sys.path.append(os.path.split(os.path.split(os.getcwd())[0])[0])\n",
    "import uuid\n",
    "import json\n",
    "\n",
    "from mercury_ml.common import tasks\n",
    "from mercury_ml.common import utils\n",
    "from mercury_ml.common import containers as common_containers\n",
    "from mercury_ml.keras import containers as keras_containers"
   ]
  },
  {
   "cell_type": "code",
   "execution_count": null,
   "metadata": {
    "pycharm": {
     "is_executing": false
    }
   },
   "outputs": [],
   "source": [
    "session_id = str(uuid.uuid4().hex)"
   ]
  },
  {
   "cell_type": "markdown",
   "metadata": {
    "pycharm": {}
   },
   "source": [
    "### load config file and update placeholder"
   ]
  },
  {
   "cell_type": "code",
   "execution_count": null,
   "metadata": {
    "pycharm": {
     "is_executing": false
    }
   },
   "outputs": [],
   "source": [
    "data_bunch_name= \"images_456\"\n"
   ]
  },
  {
   "cell_type": "markdown",
   "metadata": {
    "pycharm": {}
   },
   "source": [
    "## Source\n",
    "First set the parameter for the source"
   ]
  },
  {
   "cell_type": "code",
   "execution_count": null,
   "metadata": {
    "pycharm": {
     "is_executing": false
    }
   },
   "outputs": [],
   "source": [
    "read_source_train_param = {\n",
    "          \"generator_params\": {\n",
    "            \"channel_shift_range\": 0.0,\n",
    "            \"data_format\": \"channels_last\",\n",
    "            \"featurewise_center\": False,\n",
    "            \"featurewise_std_normalization\": False,\n",
    "            \"fill_mode\": \"nearest\",\n",
    "            \"height_shift_range\": 0.1,\n",
    "            \"horizontal_flip\": True,\n",
    "            \"rescale\": 0.00392156862745098,\n",
    "            \"rotation_range\": 0.2,\n",
    "            \"samplewise_center\": True,\n",
    "            \"samplewise_std_normalization\": True,\n",
    "            \"shear_range\": 0.1,\n",
    "            \"vertical_flip\": True,\n",
    "            \"width_shift_range\": 0.1,\n",
    "            \"zca_epsilon\": 1e-6,\n",
    "            \"zca_whitening\": False,\n",
    "            \"zoom_range\": 0.1\n",
    "          },\n",
    "          \"iterator_params\": {\n",
    "            \"directory\": \"./example_data/\"+data_bunch_name+\"/train\",\n",
    "            \"batch_size\": 2,\n",
    "            \"class_mode\": \"categorical\",\n",
    "            \"color_mode\": \"rgb\",\n",
    "            \"seed\": 12345,\n",
    "            \"shuffle\": True,\n",
    "            \"target_size\": [\n",
    "              10,\n",
    "              10\n",
    "            ]\n",
    "          }\n",
    "        }\n",
    "\n",
    "read_source_data_parm_valid = read_source_train_param\n",
    "read_source_dara_parm_test =  read_source_train_param\n",
    "read_source_data_parm_valid[\"iterator_params\"][\"shuffle\"]= False\n",
    "read_source_dara_parm_test[\"iterator_params\"][\"shuffle\"]= False"
   ]
  },
  {
   "cell_type": "code",
   "execution_count": null,
   "metadata": {
    "pycharm": {
     "is_executing": false,
     "metadata": false,
     "name": "#%%\n"
    }
   },
   "outputs": [],
   "source": [
    "read_source_data_set = common_containers.SourceReaders.read_disk_keras_single_input_iterator\n",
    "data_bunch_fit = tasks.read_train_valid_test_data_bunch(read_source_data_set,\n",
    "                                                        read_source_train_param,\n",
    "                                                        read_source_data_parm_valid,\n",
    "                                                        read_source_dara_parm_test)"
   ]
  },
  {
   "cell_type": "markdown",
   "metadata": {
    "pycharm": {}
   },
   "source": [
    "## Model and Training"
   ]
  },
  {
   "cell_type": "markdown",
   "metadata": {
    "pycharm": {}
   },
   "source": [
    "Set parameter and load optimizer and loss function"
   ]
  },
  {
   "cell_type": "code",
   "execution_count": null,
   "metadata": {
    "pycharm": {}
   },
   "outputs": [],
   "source": [
    "optimizer_parm = {\n",
    "        \"optimizer_name\": \"adam\",\n",
    "        \"optimizer_params\": {\n",
    "          \"lr\": 0.001\n",
    "        }\n",
    "      }\n",
    "optimizer =keras_containers.OptimizerFetchers.get_keras_optimizer(**optimizer_parm)\n",
    "loss_function = keras_containers.LossFunctionFetchers.get_keras_loss(\"categorical_crossentropy\")"
   ]
  },
  {
   "cell_type": "markdown",
   "metadata": {
    "pycharm": {
     "metadata": false
    }
   },
   "source": [
    "specify model"
   ]
  },
  {
   "cell_type": "code",
   "execution_count": null,
   "metadata": {
    "pycharm": {
     "metadata": false,
     "name": "#%%\n"
    }
   },
   "outputs": [],
   "source": [
    "model = keras_containers.ModelDefinitions.define_conv_simple(\n",
    "    input_size = [10, 10],\n",
    "    nb_classes=2,\n",
    "    final_activation=\"softmax\",\n",
    "    dropout_rate=0.1)"
   ]
  },
  {
   "cell_type": "markdown",
   "metadata": {
    "pycharm": {
     "metadata": false,
     "name": "#%% md\n"
    }
   },
   "source": [
    "compile model"
   ]
  },
  {
   "cell_type": "code",
   "execution_count": null,
   "metadata": {
    "pycharm": {
     "metadata": false,
     "name": "#%%\n"
    }
   },
   "outputs": [],
   "source": [
    "model = keras_containers.ModelCompilers.compile_model(model=model,\n",
    "                      optimizer=optimizer,\n",
    "                      loss=loss_function,\n",
    "                      metrics=[\"acc\"])"
   ]
  },
  {
   "cell_type": "markdown",
   "metadata": {
    "pycharm": {}
   },
   "source": [
    "### Fit the model"
   ]
  },
  {
   "cell_type": "markdown",
   "metadata": {
    "pycharm": {}
   },
   "source": [
    "Callbacks for monitoring training process"
   ]
  },
  {
   "cell_type": "code",
   "execution_count": null,
   "metadata": {
    "pycharm": {}
   },
   "outputs": [],
   "source": [
    "callback_params_early_st = {\n",
    "          \"patience\": 2,\n",
    "          \"monitor\": \"val_loss\",\n",
    "          \"min_delta\": 0.001\n",
    "        }\n",
    "callback_params_early_model_ch = {\n",
    "    \"filepath\": \"./example_results/local/\"+session_id+\"/model_checkpoint/last_best_model.h5\",\n",
    "    \"save_best_only\": True\n",
    "}\n",
    "callbacks = [keras_containers.CallBacks.early_stopping(callback_params_early_st),\n",
    "             keras_containers.CallBacks.model_checkpoint(callback_params_early_model_ch)]\n"
   ]
  },
  {
   "cell_type": "markdown",
   "metadata": {
    "pycharm": {
     "name": "#%% md\n"
    }
   },
   "source": [
    "Train the model"
   ]
  },
  {
   "cell_type": "code",
   "execution_count": null,
   "metadata": {
    "pycharm": {
     "metadata": false,
     "name": "#%%\n"
    }
   },
   "outputs": [],
   "source": [
    "model = keras_containers.ModelFitters.fit_generator(model = model,\n",
    "            data_bunch = data_bunch_fit,\n",
    "            callbacks = callbacks,\n",
    "            epochs=5)"
   ]
  },
  {
   "cell_type": "markdown",
   "metadata": {
    "pycharm": {}
   },
   "source": [
    "#### Save the model"
   ]
  },
  {
   "cell_type": "markdown",
   "metadata": {
    "pycharm": {
     "name": "#%% md\n"
    }
   },
   "source": [
    "specify model savers"
   ]
  },
  {
   "cell_type": "code",
   "execution_count": null,
   "metadata": {
    "pycharm": {
     "metadata": false,
     "name": "#%%\n"
    }
   },
   "outputs": [],
   "source": [
    "save_model_dict = {\"save_hdf5\":keras_containers.ModelSavers.save_hdf5,\n",
    "\"save_tensorflow_serving_predict_signature_def\":keras_containers.ModelSavers.save_tensorflow_serving_predict_signature_def}\n",
    "\n",
    "\n",
    "model_local_dir =\"./example_results/local/\"+session_id+\"/models\"\n",
    "model_remote_dir = \"./example_results/remote/\"+session_id+\"/models\"\n",
    "model_object_name= \"fit_example__\"+session_id\n",
    "save_model_parm = {\n",
    "      \"save_hdf5\": {\n",
    "        \"local_dir\": model_local_dir,\n",
    "        \"remote_dir\": model_remote_dir,\n",
    "        \"filename\": model_object_name+\"__hdf5\",\n",
    "        \"extension\": \".h5\",\n",
    "        \"overwrite_remote\": True\n",
    "      },\n",
    "      \"save_tensorflow_serving_predict_signature_def\": {\n",
    "        \"local_dir\": model_local_dir,\n",
    "        \"remote_dir\": model_remote_dir,\n",
    "        \"filename\": model_object_name+\"__tf_serving_predict\",\n",
    "        \"temp_base_dir\": \"c:/tf_serving/_tmp_model/\"+model_object_name+\"__tf_serving_predict\",\n",
    "        \"extension\": \".zip\",\n",
    "        \"overwrite_remote\": True,\n",
    "        \"do_save_labels_txt\": True,\n",
    "        \"input_name\": \"input\",\n",
    "        \"output_name\": \"output\",\n",
    "        \"labels_list\": [\"cat\",\"dog\"]\n",
    "      }\n",
    "    }"
   ]
  },
  {
   "cell_type": "markdown",
   "metadata": {
    "pycharm": {
     "metadata": false,
     "name": "#%% md\n"
    }
   },
   "source": [
    "save model"
   ]
  },
  {
   "cell_type": "code",
   "execution_count": null,
   "metadata": {
    "pycharm": {
     "metadata": false,
     "name": "#%%\n"
    }
   },
   "outputs": [],
   "source": [
    "for model_format, save_model in save_model_dict.items():\n",
    "    \n",
    "    tasks.store_model(save_model=save_model,\n",
    "                      model=model,\n",
    "                      copy_from_local_to_remote = common_containers.ArtifactCopiers.copy_from_disk_to_disk,#get_and_log(common_containers.ArtifactCopiers, config[\"init\"][\"copy_from_local_to_remote\"][\"name\"]),\n",
    "                      **save_model_parm[model_format]\n",
    "                      )\n"
   ]
  },
  {
   "cell_type": "markdown",
   "metadata": {
    "pycharm": {}
   },
   "source": [
    "#### Evaluate model"
   ]
  },
  {
   "cell_type": "code",
   "execution_count": null,
   "metadata": {
    "pycharm": {}
   },
   "outputs": [],
   "source": [
    "evaluate = keras_containers.ModelEvaluators.evaluate_generator\n",
    "predict = keras_containers.PredictionFunctions.predict_generator\n",
    "\n",
    "custom_label_metrics_dict = {\"evaluate_numpy_accuracy\":common_containers.CustomLabelMetrics.evaluate_numpy_accuracy,\n",
    "        \"evaluate_numpy_confusion_matrix\":common_containers.CustomLabelMetrics.evaluate_numpy_confusion_matrix}\n"
   ]
  },
  {
   "cell_type": "code",
   "execution_count": null,
   "metadata": {
    "pycharm": {
     "metadata": false,
     "name": "#%%\n"
    }
   },
   "outputs": [],
   "source": [
    "data_bunch_fit.test.predictions = predict(model=model, data_set=data_bunch_fit.test)"
   ]
  },
  {
   "cell_type": "code",
   "execution_count": null,
   "metadata": {
    "pycharm": {
     "metadata": false,
     "name": "#%%\n"
    }
   },
   "outputs": [],
   "source": [
    "result = evaluate(model, data_bunch_fit.test)\n",
    "print(json.dumps(result, indent=2))"
   ]
  },
  {
   "cell_type": "markdown",
   "metadata": {
    "pycharm": {
     "metadata": false,
     "name": "#%% md\n"
    }
   },
   "source": [
    "transform test images with numpy"
   ]
  },
  {
   "cell_type": "code",
   "execution_count": null,
   "metadata": {
    "pycharm": {
     "metadata": false,
     "name": "#%%\n"
    }
   },
   "outputs": [],
   "source": [
    "transformation_param = {\n",
    "        \"data_set_names\": [\"test\"],\n",
    "        \"params\": {\n",
    "          \"transform_to\": \"numpy\",\n",
    "          \"data_wrapper_params\": {\n",
    "            \"predictions\": {},\n",
    "            \"index\": {},\n",
    "            \"targets\": {}\n",
    "          }\n",
    "        }\n",
    "      }\n",
    "data_bunch_metric = data_bunch_fit.transform(**transformation_param)"
   ]
  },
  {
   "cell_type": "code",
   "execution_count": null,
   "metadata": {
    "pycharm": {
     "metadata": false,
     "name": "#%%\n"
    }
   },
   "outputs": [],
   "source": [
    "confMat = tasks.evaluate_label_metrics(data_bunch_metric.test, custom_label_metrics_dict)\n",
    "print(json.dumps(confMat, indent=2))"
   ]
  }
 ],
 "metadata": {
  "kernelspec": {
   "display_name": "Python 3",
   "language": "python",
   "name": "python3"
  },
  "language_info": {
   "codemirror_mode": {
    "name": "ipython",
    "version": 3
   },
   "file_extension": ".py",
   "mimetype": "text/x-python",
   "name": "python",
   "nbconvert_exporter": "python",
   "pygments_lexer": "ipython3",
   "version": "3.7.2"
  }
 },
 "nbformat": 4,
 "nbformat_minor": 2
}
